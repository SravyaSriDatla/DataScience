{
 "cells": [
  {
   "cell_type": "code",
   "execution_count": 1,
   "id": "d818bd92",
   "metadata": {},
   "outputs": [
    {
     "name": "stdout",
     "output_type": "stream",
     "text": [
      "Requirement already satisfied: pytube3 in ./anaconda3/lib/python3.11/site-packages (9.6.4)\n",
      "Requirement already satisfied: typing-extensions in ./anaconda3/lib/python3.11/site-packages (from pytube3) (4.7.1)\n",
      "Note: you may need to restart the kernel to use updated packages.\n"
     ]
    }
   ],
   "source": [
    "pip install pytube3"
   ]
  },
  {
   "cell_type": "code",
   "execution_count": 2,
   "id": "e618ebf0",
   "metadata": {},
   "outputs": [
    {
     "name": "stdout",
     "output_type": "stream",
     "text": [
      "Collecting pytube\n",
      "  Obtaining dependency information for pytube from https://files.pythonhosted.org/packages/51/64/bcf8632ed2b7a36bbf84a0544885ffa1d0b4bcf25cc0903dba66ec5fdad9/pytube-15.0.0-py3-none-any.whl.metadata\n",
      "  Downloading pytube-15.0.0-py3-none-any.whl.metadata (5.0 kB)\n",
      "Downloading pytube-15.0.0-py3-none-any.whl (57 kB)\n",
      "\u001b[2K   \u001b[90m━━━━━━━━━━━━━━━━━━━━━━━━━━━━━━━━━━━━━━━━\u001b[0m \u001b[32m57.6/57.6 kB\u001b[0m \u001b[31m1.9 MB/s\u001b[0m eta \u001b[36m0:00:00\u001b[0m\n",
      "\u001b[?25hInstalling collected packages: pytube\n",
      "Successfully installed pytube-15.0.0\n",
      "Note: you may need to restart the kernel to use updated packages.\n"
     ]
    }
   ],
   "source": [
    "pip install --upgrade pytube"
   ]
  },
  {
   "cell_type": "code",
   "execution_count": 3,
   "id": "ace0721a",
   "metadata": {},
   "outputs": [],
   "source": [
    "from pytube import YouTube"
   ]
  },
  {
   "cell_type": "code",
   "execution_count": 4,
   "id": "cc6b13e7",
   "metadata": {},
   "outputs": [
    {
     "name": "stdout",
     "output_type": "stream",
     "text": [
      "Requirement already satisfied: yt-dlp in ./anaconda3/lib/python3.11/site-packages (2024.8.6)\n",
      "Requirement already satisfied: brotli in ./anaconda3/lib/python3.11/site-packages (from yt-dlp) (1.1.0)\n",
      "Requirement already satisfied: certifi in ./anaconda3/lib/python3.11/site-packages (from yt-dlp) (2023.7.22)\n",
      "Requirement already satisfied: mutagen in ./anaconda3/lib/python3.11/site-packages (from yt-dlp) (1.47.0)\n",
      "Requirement already satisfied: pycryptodomex in ./anaconda3/lib/python3.11/site-packages (from yt-dlp) (3.20.0)\n",
      "Requirement already satisfied: requests<3,>=2.32.2 in ./anaconda3/lib/python3.11/site-packages (from yt-dlp) (2.32.3)\n",
      "Requirement already satisfied: urllib3<3,>=1.26.17 in ./anaconda3/lib/python3.11/site-packages (from yt-dlp) (2.2.2)\n",
      "Requirement already satisfied: websockets>=12.0 in ./anaconda3/lib/python3.11/site-packages (from yt-dlp) (13.0)\n",
      "Requirement already satisfied: charset-normalizer<4,>=2 in ./anaconda3/lib/python3.11/site-packages (from requests<3,>=2.32.2->yt-dlp) (2.0.4)\n",
      "Requirement already satisfied: idna<4,>=2.5 in ./anaconda3/lib/python3.11/site-packages (from requests<3,>=2.32.2->yt-dlp) (3.4)\n",
      "Note: you may need to restart the kernel to use updated packages.\n"
     ]
    }
   ],
   "source": [
    "pip install yt-dlp"
   ]
  },
  {
   "cell_type": "code",
   "execution_count": 5,
   "id": "6272d71f",
   "metadata": {},
   "outputs": [
    {
     "name": "stdout",
     "output_type": "stream",
     "text": [
      "https://www.youtube.com/watch?v=dkx07ZvjKE4\n"
     ]
    }
   ],
   "source": [
    "link = input()\n",
    "yt = YouTube(link)"
   ]
  },
  {
   "cell_type": "code",
   "execution_count": 6,
   "id": "4f596493",
   "metadata": {},
   "outputs": [
    {
     "name": "stdout",
     "output_type": "stream",
     "text": [
      "SARIPODHAA SANIVAARAM Trailer - Nani | Priyanka | SJ Suryah | Vivek Athreya | DVV Danayya\n"
     ]
    }
   ],
   "source": [
    "print(yt.title)"
   ]
  },
  {
   "cell_type": "code",
   "execution_count": 7,
   "id": "111ea53e",
   "metadata": {},
   "outputs": [
    {
     "name": "stdout",
     "output_type": "stream",
     "text": [
      "19498307\n"
     ]
    }
   ],
   "source": [
    "print(yt.views)"
   ]
  },
  {
   "cell_type": "code",
   "execution_count": 8,
   "id": "80c5f44b",
   "metadata": {},
   "outputs": [
    {
     "name": "stdout",
     "output_type": "stream",
     "text": [
      "185\n"
     ]
    }
   ],
   "source": [
    "print(yt.length)"
   ]
  },
  {
   "cell_type": "code",
   "execution_count": 9,
   "id": "c5ff8398",
   "metadata": {},
   "outputs": [
    {
     "name": "stdout",
     "output_type": "stream",
     "text": [
      "None\n"
     ]
    }
   ],
   "source": [
    "print(yt.description)"
   ]
  },
  {
   "cell_type": "code",
   "execution_count": 11,
   "id": "92b41ae6",
   "metadata": {},
   "outputs": [
    {
     "name": "stdout",
     "output_type": "stream",
     "text": [
      "None\n"
     ]
    }
   ],
   "source": [
    "print(yt.rating)"
   ]
  },
  {
   "cell_type": "code",
   "execution_count": 15,
   "id": "f4ffcc16",
   "metadata": {},
   "outputs": [
    {
     "name": "stdout",
     "output_type": "stream",
     "text": [
      "yes/no: yes\n",
      "[youtube] Extracting URL: https://www.youtube.com/watch?v=dkx07ZvjKE4\n",
      "[youtube] dkx07ZvjKE4: Downloading webpage\n",
      "[youtube] dkx07ZvjKE4: Downloading ios player API JSON\n",
      "[youtube] dkx07ZvjKE4: Downloading web creator player API JSON\n",
      "[youtube] dkx07ZvjKE4: Downloading player bcd1f224\n",
      "[youtube] dkx07ZvjKE4: Downloading m3u8 information\n",
      "[info] dkx07ZvjKE4: Downloading 1 format(s): 18\n",
      "[download] Destination: SARIPODHAA SANIVAARAM Trailer - Nani ｜ Priyanka ｜ SJ Suryah ｜ Vivek Athreya ｜ DVV Danayya [dkx07ZvjKE4].mp4\n",
      "[download] 100% of   11.50MiB in 00:00:00 at 21.64MiB/s    \n",
      "Download complete\n"
     ]
    }
   ],
   "source": [
    "from yt_dlp import YoutubeDL\n",
    "\n",
    "download_option = input('yes/no: ').lower()\n",
    "if download_option == 'yes':\n",
    "    ydl_opts = {'format': 'best'}\n",
    "    with YoutubeDL(ydl_opts) as ydl:\n",
    "        ydl.download([link])\n",
    "        print('Download complete')\n",
    "else:\n",
    "    print('ok')"
   ]
  },
  {
   "cell_type": "code",
   "execution_count": null,
   "id": "41968c02",
   "metadata": {},
   "outputs": [],
   "source": []
  }
 ],
 "metadata": {
  "kernelspec": {
   "display_name": "Python 3 (ipykernel)",
   "language": "python",
   "name": "python3"
  },
  "language_info": {
   "codemirror_mode": {
    "name": "ipython",
    "version": 3
   },
   "file_extension": ".py",
   "mimetype": "text/x-python",
   "name": "python",
   "nbconvert_exporter": "python",
   "pygments_lexer": "ipython3",
   "version": "3.11.4"
  }
 },
 "nbformat": 4,
 "nbformat_minor": 5
}
